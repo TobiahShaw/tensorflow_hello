{
 "cells": [
  {
   "cell_type": "markdown",
   "metadata": {},
   "source": [
    "# 基于深度学习的个性化召回算法item2vec\n",
    "\n",
    "## 背景\n",
    "\n",
    "- item2item的推荐方式效果显著\n",
    "\n",
    "- 神经网络模型的特征抽象能力\n",
    "\n",
    "- 算法依据论文：ITEM2VEC:NEURAL ITEM EMBEDDING FOR COLLABORATIVE FILTERING\n",
    "\n",
    "## 物理意义\n",
    "\n",
    "- 将用户的行为序列转化为item组成的句子\n",
    "\n",
    "- 模仿word2vec训练word embedding的过程，将item进行embedding\n",
    "\n",
    "## 缺陷\n",
    "\n",
    "- 用户的行为序列时序性缺失\n",
    "\n",
    "- 用户行为序列中的item强度是无区分性的\n",
    "\n",
    "## 主流程\n",
    "\n",
    "- 从log中抽取用户行为序列\n",
    "\n",
    "- 将行为序列当成语料，训练word2vec，得到item embedding\n",
    "\n",
    "- 得到item sim关系用于推荐"
   ]
  },
  {
   "cell_type": "code",
   "execution_count": null,
   "metadata": {},
   "outputs": [],
   "source": []
  }
 ],
 "metadata": {
  "kernelspec": {
   "display_name": "Python 3",
   "language": "python",
   "name": "python3"
  },
  "language_info": {
   "codemirror_mode": {
    "name": "ipython",
    "version": 3
   },
   "file_extension": ".py",
   "mimetype": "text/x-python",
   "name": "python",
   "nbconvert_exporter": "python",
   "pygments_lexer": "ipython3",
   "version": "3.6.5"
  }
 },
 "nbformat": 4,
 "nbformat_minor": 2
}
