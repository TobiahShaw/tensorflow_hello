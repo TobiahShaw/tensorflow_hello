{
 "cells": [
  {
   "cell_type": "markdown",
   "metadata": {},
   "source": [
    "# 对比UserCF与ItemCF\n",
    "\n",
    "- 出发点不同：UserCF着重反应兴趣群体的热点，ItemCF更着重于历史兴趣纪录。UserCF更社会化，ItemCF更个性化。\n",
    "\n",
    "- 时效性：UserCF用户有新行为不一定造成推荐结果立即变化，ItemCF则对新行为比较敏感。\n",
    "\n",
    "- 性能：UserCF适合用户比较少的场景，ItemCF适合物品数量明显小于用户数量的场景。\n",
    "\n",
    "- 冷启动：新物品上线后，UserCF一旦有用户产生行为就能很好的推荐给其他人，而ItemCF则没有办法在不更新相似度表的时候，推荐新物品；新用户注册后，UserCF不能立即对其进行推荐，因为用户相似度表是一段时间计算一次，ItemCF在用户点击一个物品后即可对其进行推荐。\n",
    "\n",
    "- 可解释性：UserCF相对ItemCF可解释性稍差。"
   ]
  },
  {
   "cell_type": "code",
   "execution_count": null,
   "metadata": {},
   "outputs": [],
   "source": []
  }
 ],
 "metadata": {
  "kernelspec": {
   "display_name": "Python 3",
   "language": "python",
   "name": "python3"
  },
  "language_info": {
   "codemirror_mode": {
    "name": "ipython",
    "version": 3
   },
   "file_extension": ".py",
   "mimetype": "text/x-python",
   "name": "python",
   "nbconvert_exporter": "python",
   "pygments_lexer": "ipython3",
   "version": "3.6.5"
  }
 },
 "nbformat": 4,
 "nbformat_minor": 2
}
