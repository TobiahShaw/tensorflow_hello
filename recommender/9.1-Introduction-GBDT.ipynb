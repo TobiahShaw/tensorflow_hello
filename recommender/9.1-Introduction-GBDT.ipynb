{
 "cells": [
  {
   "cell_type": "markdown",
   "metadata": {},
   "source": [
    "# GBDT(Gradient Boosting Decision Tree) 简介\n",
    "\n",
    "## 背景知识\n",
    "\n",
    "- 决策树\n",
    "\n",
    "- 决策树构造原理\n",
    "    - CART生成\n",
    "    - 回归树：均方误差最小\n",
    "    - 分类树：基尼系数\n",
    " \n",
    "### 回归树的函数表示\n",
    " \n",
    " $$f(x) = \\sum_{m=1}^M c_mI(x \\in R_m)$$\n",
    " \n",
    " M- 叶子节点数\n",
    " \n",
    " x 属于 Rm则 I为1， 否则为0\n",
    "\n",
    "## 数学原理和构建方法\n",
    "\n",
    "## XGBoost数学原理和构建方法"
   ]
  },
  {
   "cell_type": "code",
   "execution_count": null,
   "metadata": {},
   "outputs": [],
   "source": []
  }
 ],
 "metadata": {
  "kernelspec": {
   "display_name": "Python 3",
   "language": "python",
   "name": "python3"
  },
  "language_info": {
   "codemirror_mode": {
    "name": "ipython",
    "version": 3
   },
   "file_extension": ".py",
   "mimetype": "text/x-python",
   "name": "python",
   "nbconvert_exporter": "python",
   "pygments_lexer": "ipython3",
   "version": "3.6.5"
  }
 },
 "nbformat": 4,
 "nbformat_minor": 2
}
