{
 "cells": [
  {
   "cell_type": "markdown",
   "metadata": {},
   "source": [
    "# GBDT(Gradient Boosting Decision Tree) 简介\n",
    "\n",
    "## 背景知识\n",
    "\n",
    "- 决策树\n",
    "\n",
    "- 决策树构造原理\n",
    "    - CART生成\n",
    "    - 回归树：均方误差最小\n",
    "    - 分类树：基尼系数\n",
    "    \n",
    "### 回归树\n",
    " \n",
    "#### 回归树的函数表示\n",
    " \n",
    " $$f(x) = \\sum_{m=1}^M c_mI(x \\in R_m)$$\n",
    " \n",
    " M- 叶子节点数\n",
    " \n",
    " x 属于 Rm则 I为1， 否则为0\n",
    " \n",
    " #### 最优特征选取\n",
    " \n",
    " $$min_{j,s}[min_{c1} \\sum_{x_1 \\in Ri} (y_i - c_1)^2 + min_{c2} \\sum_{x_1 \\in R_2}(y_i - c_2)^2]$$\n",
    " \n",
    " j表示特征，s表示特征取值的临界分隔值\n",
    " \n",
    " $$R_1 = \\{x|x^j <= s\\},R_2 = \\{x|x^j > s\\}$$\n",
    " \n",
    " c1和c2分别代表R1和R2样本平均的label值\n",
    " \n",
    " #### 树的构建流程\n",
    " \n",
    " - 遍历所有特征，特征的最佳划分的应的得分，选取最小的分的特征\n",
    " \n",
    " - 将数据根据此选取的特征分化成两部分\n",
    " \n",
    " - 在左右两部分中遍历找到划分特征知道满足条件为止\n",
    " \n",
    "### 分类树\n",
    " \n",
    "#### 函数表示\n",
    " \n",
    "与回归树一致\n",
    " \n",
    "#### 最有特征选取\n",
    " \n",
    "- 基尼系数\n",
    "\n",
    "## 数学原理和构建方法\n",
    "\n",
    "## XGBoost数学原理和构建方法"
   ]
  },
  {
   "cell_type": "code",
   "execution_count": null,
   "metadata": {},
   "outputs": [],
   "source": []
  }
 ],
 "metadata": {
  "kernelspec": {
   "display_name": "Python 3",
   "language": "python",
   "name": "python3"
  },
  "language_info": {
   "codemirror_mode": {
    "name": "ipython",
    "version": 3
   },
   "file_extension": ".py",
   "mimetype": "text/x-python",
   "name": "python",
   "nbconvert_exporter": "python",
   "pygments_lexer": "ipython3",
   "version": "3.6.5"
  }
 },
 "nbformat": 4,
 "nbformat_minor": 2
}
