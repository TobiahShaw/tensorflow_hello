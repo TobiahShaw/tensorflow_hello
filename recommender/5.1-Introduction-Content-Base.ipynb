{
 "cells": [
  {
   "cell_type": "markdown",
   "metadata": {},
   "source": [
    "# 基于内容的推荐方法Content Base\n",
    "\n",
    "## 背景\n",
    "\n",
    "通过刻画出用户的喜好之后，给与用户推荐。\n",
    "\n",
    "优点：\n",
    "\n",
    "- 思路极简，可解释性强。\n",
    "\n",
    "- 用户推荐的独立性强。\n",
    "\n",
    "- 问世较早，流行度高。\n",
    "\n",
    "缺点：\n",
    "\n",
    "- 推荐的扩展性差，只能在一个领域进行挖掘，很难进行跨领域的推荐。\n",
    "\n",
    "- 需要积累一定量的用户的行为。\n",
    "\n",
    "## 主体流程\n",
    "\n",
    "- Item Profile.对item进行刻画。\n",
    "\n",
    "    1. 关键词刻画\n",
    "    \n",
    "    2. 类别刻画\n",
    "\n",
    "- User Profile.对user进行刻画。\n",
    "\n",
    "- Online Recommender.\n",
    "\n",
    "### Item Profile\n",
    "\n",
    "- Topic Finding，使用分词，排序，找出关键词。\n",
    "\n",
    "- Genre Classify，使用文本去标点后的词向量进行分类。\n",
    "\n",
    "### User Profile\n",
    "\n",
    "- Genre/Topic，刻画用户对哪些种类的item感兴趣，或者对哪些关键词感兴趣。\n",
    "\n",
    "- Time Decay，刻画用户的时候要注意时间衰减，我们想得到用户对于不同种类/关键词的倾向性。\n",
    "\n",
    "### Online Recommender\n",
    "\n",
    "- Finding Top K Topic/Genre\n",
    "\n",
    "- Get the best n item from fixed Topic/Genre.(different n with weight)"
   ]
  },
  {
   "cell_type": "code",
   "execution_count": null,
   "metadata": {},
   "outputs": [],
   "source": []
  }
 ],
 "metadata": {
  "kernelspec": {
   "display_name": "Python 3",
   "language": "python",
   "name": "python3"
  },
  "language_info": {
   "codemirror_mode": {
    "name": "ipython",
    "version": 3
   },
   "file_extension": ".py",
   "mimetype": "text/x-python",
   "name": "python",
   "nbconvert_exporter": "python",
   "pygments_lexer": "ipython3",
   "version": "3.6.5"
  }
 },
 "nbformat": 4,
 "nbformat_minor": 2
}
