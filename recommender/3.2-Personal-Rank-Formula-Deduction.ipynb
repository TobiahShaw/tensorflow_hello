{
 "cells": [
  {
   "cell_type": "markdown",
   "metadata": {},
   "source": [
    "# Personal-Rank 公式推导\n",
    "\n",
    "## 算法抽象\n",
    "\n",
    "### 文字描述\n",
    "\n",
    "对于用户 A 进行个性化推荐，从用户 A 节点开始在用户物品二分图 random walk，以 alpha 的概率从 A 的出边中等概率的选择一条游走过去，达到该顶点后（例如 a 顶点），有 alpha 的概率继续从顶点 a 的出边中等概率的选择一条继续游走到下一个节点，或者 (1 - aplha) 的概率回到起点 A，多次迭代。直到各顶点对用 A 的重要程度收敛。\n",
    "\n",
    "### 数学公式\n",
    "\n",
    "$$\\begin{equation}\n",
    "PR(v)=\\left\\{\n",
    "\\begin{aligned}\n",
    "\\alpha * \\sum_{\\hat v \\in in(v)} \\frac{PR(\\hat v)}{out(\\hat v)} ...(v \\not = v_A) \\\\\n",
    "(1- \\alpha) + \\alpha * \\sum_{\\hat v \\in in(v)} \\frac{PR(\\hat v)}{out(\\hat v)} ...(v = v_A)\n",
    "\\end{aligned}\n",
    "\\right.\n",
    "\\end{equation}$$\n",
    "\n",
    "### 矩阵式\n",
    "\n",
    "$$ r = (1-\\alpha) r_0 + \\alpha M^Tr $$\n",
    "\n",
    "$$ M_{ij} = \\frac{1}{out(i)}j \\in out(i) else 0 $$\n",
    "\n",
    "$$ (E - \\alpha M^T) * r = (1 - \\alpha) r_0 $$\n",
    "\n",
    "$$ r = (E - \\alpha M^T)^{-1} (1 - \\alpha) r_0 $$"
   ]
  },
  {
   "cell_type": "code",
   "execution_count": null,
   "metadata": {},
   "outputs": [],
   "source": []
  }
 ],
 "metadata": {
  "kernelspec": {
   "display_name": "Python 3",
   "language": "python",
   "name": "python3"
  },
  "language_info": {
   "codemirror_mode": {
    "name": "ipython",
    "version": 3
   },
   "file_extension": ".py",
   "mimetype": "text/x-python",
   "name": "python",
   "nbconvert_exporter": "python",
   "pygments_lexer": "ipython3",
   "version": "3.6.5"
  }
 },
 "nbformat": 4,
 "nbformat_minor": 2
}
