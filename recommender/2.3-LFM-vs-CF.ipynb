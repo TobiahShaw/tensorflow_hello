{
 "cells": [
  {
   "cell_type": "markdown",
   "metadata": {},
   "source": [
    "# LFM vs CF\n",
    "\n",
    "这里CF选取 itemCF，因为在用户数量比较多的时候更具有可行性\n",
    "\n",
    "## 理论基础\n",
    "\n",
    "- LFM 基于机器学习手段\n",
    "\n",
    "- itemCF 基于公式建模，求解矩阵，缺少学习的过程\n",
    "\n",
    "## 离线计算空间时间复杂度\n",
    "\n",
    "- LFM 空间复杂度为 物品数量乘以隐类数 + 用户数量乘以隐类数，时间复杂度 O（D * F * n），因为需要学习迭代，其实耗时是出于同一数量级\n",
    "\n",
    "- itemCF 空间复杂度为 物品数目的平方，时间复杂度 O（n ^ 2)\n",
    "\n",
    "## 在线推荐与推荐解释\n",
    "\n",
    "- LFM 得到的toplike写入Redis 或者 内存，线上直接返回计算好的，这样不能对用户的实时行为进行感知。\n",
    "\n",
    "- itemCF 可以将 item sim 矩阵写进 Redis 或者 内存，线上基于用户实时点击进行相应，可以较好的对用户行为做出反应。"
   ]
  },
  {
   "cell_type": "code",
   "execution_count": null,
   "metadata": {},
   "outputs": [],
   "source": []
  }
 ],
 "metadata": {
  "kernelspec": {
   "display_name": "Python 3",
   "language": "python",
   "name": "python3"
  },
  "language_info": {
   "codemirror_mode": {
    "name": "ipython",
    "version": 3
   },
   "file_extension": ".py",
   "mimetype": "text/x-python",
   "name": "python",
   "nbconvert_exporter": "python",
   "pygments_lexer": "ipython3",
   "version": "3.6.5"
  }
 },
 "nbformat": 4,
 "nbformat_minor": 2
}
