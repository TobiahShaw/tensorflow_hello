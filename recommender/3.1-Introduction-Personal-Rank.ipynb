{
 "cells": [
  {
   "cell_type": "markdown",
   "metadata": {},
   "source": [
    "# 基于图的个性化推荐召回算法\n",
    "\n",
    "## 背景\n",
    "\n",
    "- 用户的行为很容易表示为图\n",
    "\n",
    "- 图推荐在个性化推荐领域效果显著\n",
    "\n",
    "## 二分图\n",
    "\n",
    "二分图又称作二部图，是图论中的一种特殊模型。 设G=(V,E)是一个无向图，如果顶点V可分割为两个互不相交的子集(A,B)，并且图中的每条边（i，j）所关联的两个顶点i和j分别属于这两个不同的顶点集(i in A,j in B)，则称图G为一个二分图。[百度百科-二分图](https://baike.baidu.com/item/%E4%BA%8C%E5%88%86%E5%9B%BE/9089095?fr=aladdin)\n",
    "\n",
    "而我们的用户集合和物品集合正好是两个互不相交的子集，且每条边都连接着用户和物品，即用户-物品可以使用二分图描述。\n",
    "\n",
    "### 用户物品二分图\n",
    "\n",
    "![用户物品二分图](./img/user-item-graph.png)\n",
    "\n",
    "如上图，将用户和物品分成两个集合，将用户和行为过的物品链接起来，即成为了一张二分图。\n",
    "\n",
    "**问题：对userA 来说，item c 和 item e 哪个更值得推荐？**\n",
    "\n",
    "可以从以下几个方面考虑：\n",
    "\n",
    "- 两个顶点之间的连通路径数\n",
    "\n",
    "- 两个顶点之间连通路径长度\n",
    "\n",
    "- 两个顶点之间连通路径经过顶点的出度"
   ]
  },
  {
   "cell_type": "code",
   "execution_count": null,
   "metadata": {},
   "outputs": [],
   "source": []
  }
 ],
 "metadata": {
  "kernelspec": {
   "display_name": "Python 3",
   "language": "python",
   "name": "python3"
  },
  "language_info": {
   "codemirror_mode": {
    "name": "ipython",
    "version": 3
   },
   "file_extension": ".py",
   "mimetype": "text/x-python",
   "name": "python",
   "nbconvert_exporter": "python",
   "pygments_lexer": "ipython3",
   "version": "3.6.5"
  }
 },
 "nbformat": 4,
 "nbformat_minor": 2
}
