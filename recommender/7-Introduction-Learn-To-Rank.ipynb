{
 "cells": [
  {
   "cell_type": "markdown",
   "metadata": {},
   "source": [
    "# Rank 综述\n",
    "\n",
    "## 什么是 Learn to Rank\n",
    "\n",
    "将个性化召回的物品候选集，根据物品本身属性结合用户的属性、上下文等信息给出展现优先级的过程。\n",
    "\n",
    "## Rank 的重要作用\n",
    "\n",
    "- Rank决定了最终的推荐效果，可以详细分为三个步骤（PreRank， Rank， ReRank）\n",
    "\n",
    "### Rank 分类\n",
    "\n",
    "- 单一的浅层模型\n",
    "\n",
    "- 浅层模型的组合\n",
    "\n",
    "- 深度学习模型\n",
    "\n",
    "### Rank的架构\n",
    "\n",
    "![rank framework](./img/rank_framework.PNG)"
   ]
  },
  {
   "cell_type": "code",
   "execution_count": null,
   "metadata": {},
   "outputs": [],
   "source": []
  }
 ],
 "metadata": {
  "kernelspec": {
   "display_name": "Python 3",
   "language": "python",
   "name": "python3"
  },
  "language_info": {
   "codemirror_mode": {
    "name": "ipython",
    "version": 3
   },
   "file_extension": ".py",
   "mimetype": "text/x-python",
   "name": "python",
   "nbconvert_exporter": "python",
   "pygments_lexer": "ipython3",
   "version": "3.6.5"
  }
 },
 "nbformat": 4,
 "nbformat_minor": 2
}
