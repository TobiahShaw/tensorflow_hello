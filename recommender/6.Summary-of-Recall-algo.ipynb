{
 "cells": [
  {
   "cell_type": "markdown",
   "metadata": {},
   "source": [
    "# 个性化召回算法总结与评价\n",
    "\n",
    "## 总结\n",
    "\n",
    "### 分类\n",
    "\n",
    "- 基于邻域的（CF、LFM、Personal Rank）\n",
    "\n",
    "- 基于内容的（content base）\n",
    "\n",
    "- 基于神经网络的（item2vec）\n",
    "\n",
    "### 多算法并存\n",
    "\n",
    "| 算法\\召回 | item |\n",
    "| - | - |\n",
    "| A | a b |\n",
    "| B | a c d |\n",
    "| C | e f d c |\n",
    "\n",
    "- 如何缺点每个算法的召回数目\n",
    "\n",
    "    1.根据Rank性能确定一个数目，然后根据算法历史表现，按比例分配\n",
    "    \n",
    "    2.Rank阶段无性能压力，全部召回后进行合并。\n",
    "\n",
    "## 评价\n",
    "\n",
    "- 离线评价准入\n",
    "\n",
    "    - 评价新增算法的推荐结果在测试集上的表现\n",
    "\n",
    "- 在线评价收益\n",
    "\n",
    "    - 定义指标\n",
    "    \n",
    "    - 生成环境a b test"
   ]
  },
  {
   "cell_type": "code",
   "execution_count": null,
   "metadata": {},
   "outputs": [],
   "source": []
  }
 ],
 "metadata": {
  "kernelspec": {
   "display_name": "Python 3",
   "language": "python",
   "name": "python3"
  },
  "language_info": {
   "codemirror_mode": {
    "name": "ipython",
    "version": 3
   },
   "file_extension": ".py",
   "mimetype": "text/x-python",
   "name": "python",
   "nbconvert_exporter": "python",
   "pygments_lexer": "ipython3",
   "version": "3.6.5"
  }
 },
 "nbformat": 4,
 "nbformat_minor": 2
}
