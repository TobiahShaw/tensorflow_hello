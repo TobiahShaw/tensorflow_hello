{
 "cells": [
  {
   "cell_type": "markdown",
   "metadata": {},
   "source": [
    "# LR和GBDT的混合模型\n",
    "\n",
    "## 背景知识\n",
    "\n",
    "- 来自 Facebook 一篇论文 Practical Lessons from Predicting Clicks on AD at Facebook\n",
    "\n",
    "- 使用混合模型的原因是因为逻辑回归需要繁琐的特征处理\n",
    "\n",
    "- 树模型具有feature transform能力，使用树模型产生结果作为特征输入到LR模型\n",
    "\n",
    "## 优点\n",
    "\n",
    "- 利用树模型进行特征转化\n",
    "\n",
    "## 缺点\n",
    "\n",
    "- 两个模型分别训练，不是联合训练"
   ]
  },
  {
   "cell_type": "code",
   "execution_count": null,
   "metadata": {},
   "outputs": [],
   "source": []
  }
 ],
 "metadata": {
  "kernelspec": {
   "display_name": "Python 3",
   "language": "python",
   "name": "python3"
  },
  "language_info": {
   "codemirror_mode": {
    "name": "ipython",
    "version": 3
   },
   "file_extension": ".py",
   "mimetype": "text/x-python",
   "name": "python",
   "nbconvert_exporter": "python",
   "pygments_lexer": "ipython3",
   "version": "3.6.5"
  }
 },
 "nbformat": 4,
 "nbformat_minor": 2
}
