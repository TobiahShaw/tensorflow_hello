{
 "cells": [
  {
   "cell_type": "markdown",
   "metadata": {},
   "source": [
    "# 卷积神经网络-CNN\n",
    "\n",
    "- 可以有效降低反馈神经网络（传统神经网络）的复杂性\n",
    "\n",
    "- 常见结构有：LeNet-5、Alex-Net、ZFNet、VGGNet、GoogleNet等等\n",
    "\n",
    "- 从常见结构讲，CNN发展方向是层次的增加，可以得出更好的特征表达，但是容易过拟合\n",
    "\n",
    "- 主要应用再图像分类和物品识别\n",
    "\n",
    "## 特点\n",
    "\n",
    "- 保存了层级的网络结构\n",
    "\n",
    "- 不同层次有不同的形式与功能"
   ]
  },
  {
   "cell_type": "markdown",
   "metadata": {},
   "source": [
    "## 主要层次\n",
    "\n",
    "- 数据输入层 Input Layer\n",
    "\n",
    "- 卷积计算层 CONV Layer\n",
    "\n",
    "- ReLU激励层 ReLu Layer\n",
    "\n",
    "- 池化层 Pooling Layer\n",
    "\n",
    "- 全连接层 FC Layer"
   ]
  },
  {
   "cell_type": "markdown",
   "metadata": {},
   "source": [
    "### 输入层 Input Layer\n",
    "\n",
    "和神经网络/机器学习一样，需要对输入的数据进行预处理\n",
    "\n",
    "- 输入数据的单位不一致\n",
    "\n",
    "- 数据范围过大\n",
    "\n",
    "- 神经网络激活函数值域限制\n",
    "\n",
    "- S形激活函数再(0,1)以外的区域很平缓，区分太小\n",
    "\n",
    "#### 常见的三种预处理方式\n",
    "\n",
    "##### 去均值\n",
    "\n",
    "将输入的数据的各个维度的中心化到0\n",
    "\n",
    "##### 归一化\n",
    "\n",
    "将输入的各个维度的幅度归一化到相同的范围\n",
    "\n",
    "##### 白化 / PCA\n",
    "\n",
    "白化使得学习的算法的输入具有如下性质：\n",
    "\n",
    "1. 特征之间相关性较低\n",
    "\n",
    "2. 所有特征具有相同的方差\n",
    "\n",
    "PCA降维"
   ]
  },
  {
   "cell_type": "code",
   "execution_count": null,
   "metadata": {},
   "outputs": [],
   "source": []
  }
 ],
 "metadata": {
  "kernelspec": {
   "display_name": "Python 3",
   "language": "python",
   "name": "python3"
  },
  "language_info": {
   "codemirror_mode": {
    "name": "ipython",
    "version": 3
   },
   "file_extension": ".py",
   "mimetype": "text/x-python",
   "name": "python",
   "nbconvert_exporter": "python",
   "pygments_lexer": "ipython3",
   "version": "3.6.5"
  }
 },
 "nbformat": 4,
 "nbformat_minor": 2
}
