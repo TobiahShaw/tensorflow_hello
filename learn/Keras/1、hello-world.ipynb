{
  "cells": [
    {
      "metadata": {
        "trusted": true
      },
      "cell_type": "markdown",
      "source": "# keras 简介\n\n## 简单使用"
    },
    {
      "metadata": {
        "trusted": true
      },
      "cell_type": "code",
      "source": "import tensorflow as tf\nfrom tensorflow.keras import layers",
      "execution_count": 1,
      "outputs": []
    },
    {
      "metadata": {
        "trusted": true
      },
      "cell_type": "code",
      "source": "print(tf.VERSION)\nprint(tf.keras.__version__)",
      "execution_count": 2,
      "outputs": [
        {
          "output_type": "stream",
          "text": "1.12.2\n2.1.6-tf\n",
          "name": "stdout"
        }
      ]
    },
    {
      "metadata": {},
      "cell_type": "markdown",
      "source": "### 构建简单的模型\n\n在 Keras 中，您可以通过组合层来构建模型。模型（通常）是由层构成的图。最常见的模型类型是层的堆叠：tf.keras.Sequential 模型。"
    },
    {
      "metadata": {
        "trusted": true
      },
      "cell_type": "code",
      "source": "model = tf.keras.Sequential()\n# Adds a densely-connected layer with 64 units to the model:\nmodel.add(layers.Dense(64, activation='relu'))\n# Add another:\nmodel.add(layers.Dense(64, activation='relu'))\n# Add a softmax layer with 10 output units:\nmodel.add(layers.Dense(10, activation='softmax'))",
      "execution_count": 3,
      "outputs": []
    },
    {
      "metadata": {},
      "cell_type": "markdown",
      "source": "### 训练和评估"
    },
    {
      "metadata": {
        "trusted": true
      },
      "cell_type": "code",
      "source": "model.compile(optimizer=tf.train.AdamOptimizer(0.001),\n              loss='categorical_crossentropy',\n              metrics=['accuracy'])",
      "execution_count": 4,
      "outputs": []
    },
    {
      "metadata": {},
      "cell_type": "markdown",
      "source": "### 输入 NumPy 数据"
    },
    {
      "metadata": {
        "trusted": true
      },
      "cell_type": "code",
      "source": "import numpy as np\n\ndata = np.random.random((1000, 32))\nlabels = np.random.random((1000, 10))\n\nmodel.fit(data, labels, epochs=10, batch_size=32)",
      "execution_count": 5,
      "outputs": [
        {
          "output_type": "stream",
          "text": "Epoch 1/10\n1000/1000 [==============================] - 0s 283us/step - loss: 11.3658 - acc: 0.0860\nEpoch 2/10\n1000/1000 [==============================] - 0s 49us/step - loss: 11.3345 - acc: 0.1160\nEpoch 3/10\n1000/1000 [==============================] - 0s 59us/step - loss: 11.3247 - acc: 0.1200\nEpoch 4/10\n1000/1000 [==============================] - 0s 89us/step - loss: 11.3182 - acc: 0.1170\nEpoch 5/10\n1000/1000 [==============================] - 0s 99us/step - loss: 11.3128 - acc: 0.1560\nEpoch 6/10\n1000/1000 [==============================] - 0s 69us/step - loss: 11.3076 - acc: 0.1330\nEpoch 7/10\n1000/1000 [==============================] - 0s 59us/step - loss: 11.3031 - acc: 0.1470\nEpoch 8/10\n1000/1000 [==============================] - 0s 67us/step - loss: 11.2990 - acc: 0.1700\nEpoch 9/10\n1000/1000 [==============================] - 0s 110us/step - loss: 11.2932 - acc: 0.1610\nEpoch 10/10\n1000/1000 [==============================] - 0s 83us/step - loss: 11.2898 - acc: 0.1680\n",
          "name": "stdout"
        },
        {
          "output_type": "execute_result",
          "execution_count": 5,
          "data": {
            "text/plain": "<tensorflow.python.keras.callbacks.History at 0x7fe01e847f60>"
          },
          "metadata": {}
        }
      ]
    },
    {
      "metadata": {
        "trusted": true
      },
      "cell_type": "code",
      "source": "",
      "execution_count": null,
      "outputs": []
    }
  ],
  "metadata": {
    "kernelspec": {
      "name": "python36",
      "display_name": "Python 3.6",
      "language": "python"
    },
    "language_info": {
      "mimetype": "text/x-python",
      "nbconvert_exporter": "python",
      "name": "python",
      "pygments_lexer": "ipython3",
      "version": "3.6.6",
      "file_extension": ".py",
      "codemirror_mode": {
        "version": 3,
        "name": "ipython"
      }
    }
  },
  "nbformat": 4,
  "nbformat_minor": 2
}