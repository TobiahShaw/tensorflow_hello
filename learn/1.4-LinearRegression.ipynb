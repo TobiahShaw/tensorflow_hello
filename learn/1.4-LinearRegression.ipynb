{
  "cells": [
    {
      "metadata": {},
      "cell_type": "markdown",
      "source": "# 线性回归"
    },
    {
      "metadata": {
        "trusted": true
      },
      "cell_type": "code",
      "source": "import numpy as np\nimport tensorflow as tf\nimport matplotlib.pyplot as plt",
      "execution_count": 1,
      "outputs": []
    },
    {
      "metadata": {},
      "cell_type": "markdown",
      "source": "## 模拟数据集"
    },
    {
      "metadata": {
        "trusted": true
      },
      "cell_type": "code",
      "source": "x = np.arange(0, 10, 0.05)",
      "execution_count": 2,
      "outputs": []
    },
    {
      "metadata": {
        "trusted": true
      },
      "cell_type": "code",
      "source": "y = x + 0.5 + np.random.normal(0.5, 0.5, size=x.shape)",
      "execution_count": 3,
      "outputs": []
    },
    {
      "metadata": {
        "trusted": true
      },
      "cell_type": "code",
      "source": "plt.scatter(x, y)\nplt.show()",
      "execution_count": 4,
      "outputs": [
        {
          "output_type": "display_data",
          "data": {
            "image/png": "[encoded data removed]",
            "text/plain": "<matplotlib.figure.Figure at 0x7f6511c82128>"
          },
          "metadata": {}
        }
      ]
    },
    {
      "metadata": {},
      "cell_type": "markdown",
      "source": "## 构建模型"
    },
    {
      "metadata": {
        "trusted": true
      },
      "cell_type": "code",
      "source": "# 生成一个1维的W矩阵，取值范围再[-1, 1]的随机数\nW = tf.Variable(tf.random_uniform([1], -1.0, 1.0), name='W')",
      "execution_count": 5,
      "outputs": []
    },
    {
      "metadata": {
        "trusted": true
      },
      "cell_type": "code",
      "source": "# 生成一个1维的b矩阵，初始值为0\nb = tf.Variable(tf.zeros([1]), name='b')",
      "execution_count": 6,
      "outputs": []
    },
    {
      "metadata": {
        "trusted": true
      },
      "cell_type": "code",
      "source": "# 构建预估y_\ny_ = W * x + b",
      "execution_count": 7,
      "outputs": []
    },
    {
      "metadata": {
        "trusted": true
      },
      "cell_type": "code",
      "source": "# 以预估值y_和y之间的均方差作为损失\nloss = tf.reduce_mean(tf.square(y_ - y), name='loss')\n# 优化器\nop = tf.train.GradientDescentOptimizer(0.01)\n# 训练,最小化误差值\ntrain = op.minimize(loss, name='train')",
      "execution_count": 8,
      "outputs": []
    },
    {
      "metadata": {
        "trusted": true
      },
      "cell_type": "code",
      "source": "# 建立会话\nsess = tf.Session()",
      "execution_count": 9,
      "outputs": []
    },
    {
      "metadata": {
        "trusted": true
      },
      "cell_type": "code",
      "source": "# 初始化变量\ninit = tf.global_variables_initializer()\nsess.run(init)\n\nprint('W=',sess.run(W),',b=',sess.run(b),',loss=',sess.run(loss))",
      "execution_count": 10,
      "outputs": [
        {
          "output_type": "stream",
          "text": "W= [0.2702682] ,b= [0.] ,loss= 25.974218\n",
          "name": "stdout"
        }
      ]
    },
    {
      "metadata": {
        "trusted": true
      },
      "cell_type": "code",
      "source": "for step in range(100):\n    sess.run(train)\nprint('W=',sess.run(W),',b=',sess.run(b),',loss=',sess.run(loss))",
      "execution_count": 11,
      "outputs": [
        {
          "output_type": "stream",
          "text": "W= [1.0771836] ,b= [0.47937557] ,loss= 0.2581771\n",
          "name": "stdout"
        }
      ]
    },
    {
      "metadata": {
        "trusted": true
      },
      "cell_type": "code",
      "source": "",
      "execution_count": null,
      "outputs": []
    }
  ],
  "metadata": {
    "kernelspec": {
      "name": "python3",
      "display_name": "Python 3",
      "language": "python"
    },
    "language_info": {
      "mimetype": "text/x-python",
      "nbconvert_exporter": "python",
      "name": "python",
      "pygments_lexer": "ipython3",
      "version": "3.5.4",
      "file_extension": ".py",
      "codemirror_mode": {
        "version": 3,
        "name": "ipython"
      }
    }
  },
  "nbformat": 4,
  "nbformat_minor": 2
}